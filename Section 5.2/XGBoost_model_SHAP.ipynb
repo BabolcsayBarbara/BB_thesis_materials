{
 "cells": [
  {
   "cell_type": "code",
   "execution_count": null,
   "id": "3d939d89",
   "metadata": {},
   "outputs": [],
   "source": [
    "import pandas as pd\n",
    "import shap\n",
    "import xgboost as xgb"
   ]
  },
  {
   "cell_type": "markdown",
   "id": "a10276ce",
   "metadata": {},
   "source": [
    "#### 1. Load the trained model"
   ]
  },
  {
   "cell_type": "code",
   "execution_count": null,
   "id": "27d740ac",
   "metadata": {},
   "outputs": [],
   "source": [
    "model = xgb.Booster()\n",
    "model.load_model('XGBoost_model.json')\n",
    "explainer = shap.TreeExplainer(model)"
   ]
  },
  {
   "cell_type": "markdown",
   "id": "9df2f3df",
   "metadata": {},
   "source": [
    "#### 2. Load the data"
   ]
  },
  {
   "cell_type": "code",
   "execution_count": null,
   "id": "631b00d5",
   "metadata": {},
   "outputs": [],
   "source": [
    "X = pd.read_csv('UK_23_July.csv')"
   ]
  },
  {
   "cell_type": "markdown",
   "id": "c1d29e8d",
   "metadata": {},
   "source": [
    "#### 3. Compute + visualize SHAP values for each week"
   ]
  },
  {
   "cell_type": "code",
   "execution_count": null,
   "id": "4319d19b",
   "metadata": {},
   "outputs": [],
   "source": [
    "#Week 27\n",
    "X1 = X[X['week'] == 27]\n",
    "X1 = X1.drop(columns=['Unnamed: 0','lats','lons','year','water'])\n",
    "X1 = pd.get_dummies(X1, columns=['LC'], prefix='LC')\n",
    "X1 = X1.dropna()\n",
    "y1 = X1.pop('ba_bin')\n",
    "\n",
    "\n",
    "shap_values = explainer.shap_values(X1[0:100000])\n",
    "shap.summary_plot(shap_values, X1[0:100000])"
   ]
  },
  {
   "cell_type": "code",
   "execution_count": null,
   "id": "721a74bb",
   "metadata": {},
   "outputs": [],
   "source": [
    "#Week 28\n",
    "X2 = X[X['week'] == 28]\n",
    "X2 = X2.drop(columns=['Unnamed: 0','lats','lons','year','water'])\n",
    "X2 = pd.get_dummies(X2, columns=['LC'], prefix='LC')\n",
    "X2 = X2.dropna()\n",
    "y2 = X2.pop('ba_bin')\n",
    "\n",
    "\n",
    "shap_values = explainer.shap_values(X2[0:100000])\n",
    "shap.summary_plot(shap_values, X2[0:100000])"
   ]
  },
  {
   "cell_type": "code",
   "execution_count": null,
   "id": "04544e3e",
   "metadata": {},
   "outputs": [],
   "source": [
    "#Week 29\n",
    "X3 = X[X['week'] == 29]\n",
    "X3 = X3.drop(columns=['Unnamed: 0','lats','lons','year','water'])\n",
    "X3 = pd.get_dummies(X3, columns=['LC'], prefix='LC')\n",
    "X3 = X3.dropna()\n",
    "y3 = X3.pop('ba_bin')\n",
    "\n",
    "\n",
    "shap_values = explainer.shap_values(X3[0:100000])\n",
    "shap.summary_plot(shap_values, X3[0:100000])"
   ]
  },
  {
   "cell_type": "code",
   "execution_count": null,
   "id": "f2fcee3c",
   "metadata": {},
   "outputs": [],
   "source": [
    "#Week 30\n",
    "X4 = X[X['week'] == 30]\n",
    "X4 = X4.drop(columns=['Unnamed: 0','lats','lons','year','water'])\n",
    "X4 = pd.get_dummies(X4, columns=['LC'], prefix='LC')\n",
    "X4 = X4.dropna()\n",
    "y4 = X4.pop('ba_bin')\n",
    "\n",
    "\n",
    "shap_values = explainer.shap_values(X4[0:100000])\n",
    "shap.summary_plot(shap_values, X4[0:100000])"
   ]
  }
 ],
 "metadata": {
  "kernelspec": {
   "display_name": "Python 3 (ipykernel)",
   "language": "python",
   "name": "python3"
  },
  "language_info": {
   "codemirror_mode": {
    "name": "ipython",
    "version": 3
   },
   "file_extension": ".py",
   "mimetype": "text/x-python",
   "name": "python",
   "nbconvert_exporter": "python",
   "pygments_lexer": "ipython3",
   "version": "3.10.9"
  }
 },
 "nbformat": 4,
 "nbformat_minor": 5
}
